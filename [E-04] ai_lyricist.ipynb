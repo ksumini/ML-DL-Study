{
 "cells": [
  {
   "cell_type": "markdown",
   "id": "angry-handbook",
   "metadata": {},
   "source": [
    "# 프로젝트"
   ]
  },
  {
   "cell_type": "code",
   "execution_count": 1,
   "id": "alert-jewelry",
   "metadata": {},
   "outputs": [
    {
     "name": "stdout",
     "output_type": "stream",
     "text": [
      "데이터 크기: 187088\n",
      "Examples:\n",
      " ['[Hook]', \"I've been down so long, it look like up to me\", 'They look up to me']\n"
     ]
    }
   ],
   "source": [
    "import glob\n",
    "import os\n",
    "\n",
    "txt_file_path = os.getenv('HOME')+'/aiffel/lyricist/data/lyrics/*'\n",
    "\n",
    "txt_list = glob.glob(txt_file_path)\n",
    "\n",
    "raw_corpus = []\n",
    "\n",
    "# 여러개의 txt 파일을 모두 읽어서 raw_corpus 에 담습니다.\n",
    "for txt_file in txt_list:\n",
    "    with open(txt_file, \"r\") as f:\n",
    "        raw = f.read().splitlines()\n",
    "        raw_corpus.extend(raw)\n",
    "\n",
    "print(\"데이터 크기:\", len(raw_corpus))\n",
    "print(\"Examples:\\n\", raw_corpus[:3])"
   ]
  },
  {
   "cell_type": "markdown",
   "id": "backed-liberal",
   "metadata": {},
   "source": [
    "## 데이터 정제"
   ]
  },
  {
   "cell_type": "code",
   "execution_count": 3,
   "id": "critical-wildlife",
   "metadata": {},
   "outputs": [
    {
     "name": "stdout",
     "output_type": "stream",
     "text": [
      "<start> this is sample sentence . <end>\n",
      "<start> thissentence . <end>\n",
      "<start> i eat lunch <end>\n"
     ]
    }
   ],
   "source": [
    "# 입력된 문장을\n",
    "#     1. 소문자로 바꾸고, 양쪽 공백을 지웁니다\n",
    "#     2. 특수문자 양쪽에 공백을 넣고\n",
    "#     3. 여러개의 공백은 하나의 공백으로 바꿉니다\n",
    "#     4. a-zA-Z?.!,¿가 아닌 모든 문자를 하나의 공백으로 바꿉니다\n",
    "#     5. 다시 양쪽 공백을 지웁니다\n",
    "#     6. 문장 시작에는 <start>, 끝에는 <end>를 추가합니다\n",
    "# 이 순서로 처리해주면 문제가 되는 상황을 방지할 수 있겠네요!\n",
    "import re\n",
    "def preprocess_sentence(sentence):\n",
    "    sentence = sentence.lower().strip() # 1\n",
    "    sentence = re.sub(r\"([?.!,¿])\", r\" \\1 \", sentence) # 2\n",
    "    sentence = re.sub(r'[\" \"]+', \" \", sentence) # 3\n",
    "    sentence = re.sub(r\"[^a-zA-Z?.!,¿]+\", \" \", sentence) # 4\n",
    "    sentence = sentence.strip() # 5\n",
    "    sentence = '<start> ' + sentence + ' <end>' # 6\n",
    "    return sentence\n",
    "\n",
    "# 이 문장이 어떻게 필터링되는지 확인해 보세요.\n",
    "print(preprocess_sentence(\"This @_is ;;;sample        sentence.\"))\n",
    "print(preprocess_sentence(\"Thissentence.\"))\n",
    "print(preprocess_sentence(\"I eat lunch\"))"
   ]
  },
  {
   "cell_type": "code",
   "execution_count": 4,
   "id": "opened-antigua",
   "metadata": {},
   "outputs": [
    {
     "data": {
      "text/plain": [
       "['<start> hook <end>',\n",
       " '<start> i ve been down so long , it look like up to me <end>',\n",
       " '<start> they look up to me <end>',\n",
       " '<start> i got fake people showin fake love to me <end>',\n",
       " '<start> straight up to my face , straight up to my face <end>',\n",
       " '<start> i ve been down so long , it look like up to me <end>',\n",
       " '<start> they look up to me <end>',\n",
       " '<start> i got fake people showin fake love to me <end>',\n",
       " '<start> somethin ain t right when we talkin <end>',\n",
       " '<start> somethin ain t right when we talkin <end>']"
      ]
     },
     "execution_count": 4,
     "metadata": {},
     "output_type": "execute_result"
    }
   ],
   "source": [
    "corpus = []\n",
    "\n",
    "for sentence in raw_corpus:\n",
    "    if len(sentence) == 0: continue # 길이가 0인 문장은 건너뜁니다\n",
    "    if len(sentence) > 50: continue\n",
    "    if sentence[-1] == \":\": continue # 문장의 끝이 :인 문장은 건너뜁니다\n",
    "        \n",
    "    corpus.append(preprocess_sentence(sentence))\n",
    "        \n",
    "corpus[:10]"
   ]
  },
  {
   "cell_type": "markdown",
   "id": "traditional-hopkins",
   "metadata": {},
   "source": [
    "## 토큰화"
   ]
  },
  {
   "cell_type": "code",
   "execution_count": 6,
   "id": "dried-upset",
   "metadata": {},
   "outputs": [
    {
     "name": "stdout",
     "output_type": "stream",
     "text": [
      "[[   2  941    3 ...    0    0    0]\n",
      " [   2    4   94 ...   10   12    3]\n",
      " [   2   46  134 ...    0    0    0]\n",
      " ...\n",
      " [   2  198    3 ...    0    0    0]\n",
      " [   2  442    9 ...    0    0    0]\n",
      " [   2    9 1610 ...    0    0    0]] <keras_preprocessing.text.Tokenizer object at 0x7f086990a390>\n"
     ]
    }
   ],
   "source": [
    "import tensorflow as tf \n",
    "\n",
    "def tokenize(corpus):\n",
    "    # 텐서플로우에서 제공하는 Tokenizer 패키지를 생성\n",
    "    tokenizer = tf.keras.preprocessing.text.Tokenizer(\n",
    "        num_words=12000,  # 전체 단어의 개수 \n",
    "        filters=' ',    # 별도로 전처리 로직을 추가할 수 있습니다. 이번에는 사용하지 않겠습니다.\n",
    "        oov_token=\"<unk>\"  # out-of-vocabulary, 사전에 없었던 단어는 어떤 토큰으로 대체할지\n",
    "    )\n",
    "    tokenizer.fit_on_texts(corpus)   # 우리가 구축한 corpus로부터 Tokenizer가 사전을 자동구축하게 됩니다.\n",
    "\n",
    "    # 이후 tokenizer를 활용하여 모델에 입력할 데이터셋을 구축하게 됩니다.\n",
    "    tensor = tokenizer.texts_to_sequences(corpus)   # tokenizer는 구축한 사전으로부터 corpus를 해석해 Tensor로 변환합니다.\n",
    "\n",
    "    # 입력 데이터의 시퀀스 길이를 일정하게 맞추기 위한 padding  메소드를 제공합니다.\n",
    "    # maxlen의 디폴트값은 None입니다. 이 경우 corpus의 가장 긴 문장을 기준으로 시퀀스 길이가 맞춰집니다.\n",
    "    # maxlen=15를 설정해서 토큰의 개수가 15개를 최대로 설정, 15개 초과하는 데이터는 제외\n",
    "    tensor = tf.keras.preprocessing.sequence.pad_sequences(tensor, padding='post', maxlen=15)\n",
    "\n",
    "    print(tensor,tokenizer)\n",
    "    return tensor, tokenizer\n",
    "\n",
    "tensor, tokenizer = tokenize(corpus)"
   ]
  },
  {
   "cell_type": "code",
   "execution_count": 7,
   "id": "double-conditioning",
   "metadata": {},
   "outputs": [
    {
     "name": "stdout",
     "output_type": "stream",
     "text": [
      "[  2 941   3   0   0   0   0   0   0   0   0   0   0   0]\n",
      "[941   3   0   0   0   0   0   0   0   0   0   0   0   0]\n",
      "142443\n",
      "142443\n"
     ]
    }
   ],
   "source": [
    "# tensor에서 마지막 토큰을 잘라내서 소스 문장을 생성합니다\n",
    "# 마지막 토큰은 <end>가 아니라 <pad>일 가능성이 높습니다.\n",
    "src_input = tensor[:, :-1]  \n",
    "# tensor에서 <start>를 잘라내서 타겟 문장을 생성합니다.\n",
    "tgt_input = tensor[:, 1:]    \n",
    "\n",
    "print(src_input[0])\n",
    "print(tgt_input[0])\n",
    "print(len(src_input))\n",
    "print(len(tgt_input))"
   ]
  },
  {
   "cell_type": "markdown",
   "id": "structural-vulnerability",
   "metadata": {},
   "source": [
    "## 평가 데이터셋 분리"
   ]
  },
  {
   "cell_type": "code",
   "execution_count": 9,
   "id": "certified-shower",
   "metadata": {},
   "outputs": [
    {
     "name": "stdout",
     "output_type": "stream",
     "text": [
      "Source Train: (113954, 14)\n",
      "Target Train: (113954, 14)\n"
     ]
    }
   ],
   "source": [
    "# train, test 분리\n",
    "\n",
    "from sklearn.model_selection import train_test_split\n",
    "\n",
    "enc_train, enc_val, dec_train, dec_val = train_test_split(src_input,\n",
    "                                                          tgt_input,\n",
    "                                                          test_size=0.2,\n",
    "                                                          shuffle=True)\n",
    "\n",
    "print(\"Source Train:\", enc_train.shape) # 소스 문장\n",
    "print(\"Target Train:\", dec_train.shape) # 타겟 문장"
   ]
  },
  {
   "cell_type": "code",
   "execution_count": 10,
   "id": "collect-defendant",
   "metadata": {},
   "outputs": [
    {
     "name": "stdout",
     "output_type": "stream",
     "text": [
      "<BatchDataset shapes: ((256, 14), (256, 14)), types: (tf.int32, tf.int32)>\n",
      "<BatchDataset shapes: ((256, 14), (256, 14)), types: (tf.int32, tf.int32)>\n"
     ]
    }
   ],
   "source": [
    "BUFFER_SIZE = len(src_input)\n",
    "BATCH_SIZE = 256\n",
    "steps_per_epoch = len(src_input) // BATCH_SIZE\n",
    "\n",
    "VOCAB_SIZE = tokenizer.num_words + 1   \n",
    "\n",
    "# 준비한 데이터 소스로부터 데이터셋을 만듭니다\n",
    "# 데이터셋에 대해서는 아래 문서를 참고하세요\n",
    "# 자세히 알아둘수록 도움이 많이 되는 중요한 문서입니다\n",
    "# https://www.tensorflow.org/api_docs/python/tf/data/Dataset\n",
    "dataset1 = tf.data.Dataset.from_tensor_slices((enc_train, dec_train)).shuffle(BUFFER_SIZE)\n",
    "dataset1 = dataset1.batch(BATCH_SIZE, drop_remainder=True)\n",
    "print(dataset1)\n",
    "\n",
    "dataset2 = tf.data.Dataset.from_tensor_slices((enc_val, dec_val)).shuffle(BUFFER_SIZE)\n",
    "dataset2 = dataset2.batch(BATCH_SIZE, drop_remainder=True)\n",
    "print(dataset2)"
   ]
  },
  {
   "cell_type": "code",
   "execution_count": 11,
   "id": "sorted-weekly",
   "metadata": {},
   "outputs": [],
   "source": [
    "class TextGenerator(tf.keras.Model):\n",
    "    def __init__(self, vocab_size, embedding_size, hidden_size):\n",
    "        super().__init__()\n",
    "        \n",
    "        self.embedding = tf.keras.layers.Embedding(vocab_size, embedding_size)\n",
    "        self.rnn_1 = tf.keras.layers.LSTM(hidden_size, return_sequences=True)\n",
    "        self.rnn_2 = tf.keras.layers.LSTM(hidden_size, return_sequences=True)\n",
    "        self.linear = tf.keras.layers.Dense(vocab_size)\n",
    "        \n",
    "    def call(self, x):\n",
    "        out = self.embedding(x)\n",
    "        out = self.rnn_1(out)\n",
    "        out = self.rnn_2(out)\n",
    "        out = self.linear(out)\n",
    "        \n",
    "        return out\n",
    "    \n",
    "embedding_size = 256\n",
    "hidden_size = 1024\n",
    "model = TextGenerator(tokenizer.num_words + 1, embedding_size , hidden_size)"
   ]
  },
  {
   "cell_type": "code",
   "execution_count": 12,
   "id": "monetary-investigation",
   "metadata": {},
   "outputs": [
    {
     "name": "stdout",
     "output_type": "stream",
     "text": [
      "tf.Tensor(\n",
      "[[[-6.21630315e-05  5.10329774e-05 -2.28092013e-05 ...  1.07920874e-04\n",
      "    1.30119706e-05 -1.97675195e-06]\n",
      "  [-2.76733736e-05  3.83767110e-06 -6.26690598e-05 ...  1.37086274e-04\n",
      "    4.02425685e-05  7.19083546e-05]\n",
      "  [-2.38473993e-04  3.72791510e-06  3.47908463e-06 ...  2.20556947e-04\n",
      "    1.78690985e-04  8.85536356e-05]\n",
      "  ...\n",
      "  [-6.23432163e-04 -2.02017813e-03  1.20721222e-03 ...  3.18764505e-04\n",
      "    1.48974895e-03 -8.22309579e-04]\n",
      "  [-8.48433876e-04 -2.15080590e-03  1.44522812e-03 ...  1.01578080e-04\n",
      "    1.70652894e-03 -9.18670266e-04]\n",
      "  [-1.05173502e-03 -2.24655494e-03  1.69291743e-03 ... -1.01305712e-04\n",
      "    1.91392959e-03 -1.02263270e-03]]\n",
      "\n",
      " [[-6.21630315e-05  5.10329774e-05 -2.28092013e-05 ...  1.07920874e-04\n",
      "    1.30119706e-05 -1.97675195e-06]\n",
      "  [-1.24104583e-04 -2.27344281e-04  1.26052691e-04 ...  1.91734813e-04\n",
      "   -8.30904974e-05 -4.83854990e-07]\n",
      "  [-3.60056205e-04 -4.15128830e-04  3.26851179e-04 ...  5.45707298e-04\n",
      "    1.56098267e-05 -3.03688576e-04]\n",
      "  ...\n",
      "  [-1.18272007e-03 -2.12565227e-03 -2.09544291e-04 ... -4.37521794e-06\n",
      "    1.07703230e-03 -7.92834675e-04]\n",
      "  [-1.36204273e-03 -2.29484052e-03  5.88922121e-05 ... -2.49530189e-04\n",
      "    1.29150692e-03 -7.57328526e-04]\n",
      "  [-1.50786887e-03 -2.41684681e-03  3.82299564e-04 ... -4.69263439e-04\n",
      "    1.51983730e-03 -7.64732249e-04]]\n",
      "\n",
      " [[-6.21630315e-05  5.10329774e-05 -2.28092013e-05 ...  1.07920874e-04\n",
      "    1.30119706e-05 -1.97675195e-06]\n",
      "  [ 1.94991109e-04 -1.03319093e-04 -2.53439619e-04 ...  3.50113900e-04\n",
      "    7.86052042e-05  5.68775031e-05]\n",
      "  [ 4.56453243e-04 -1.20951285e-04 -6.63122570e-04 ...  4.04550781e-04\n",
      "    9.50839894e-05  3.34627985e-04]\n",
      "  ...\n",
      "  [-1.13882509e-03 -1.81677786e-03  1.15825376e-03 ... -5.56661340e-04\n",
      "    1.13844674e-03 -2.88517302e-04]\n",
      "  [-1.31064223e-03 -1.95965148e-03  1.47999485e-03 ... -7.16836774e-04\n",
      "    1.40818162e-03 -5.15099382e-04]\n",
      "  [-1.45075133e-03 -2.06085364e-03  1.78285851e-03 ... -8.48161115e-04\n",
      "    1.65707269e-03 -7.26365717e-04]]\n",
      "\n",
      " ...\n",
      "\n",
      " [[-6.21630315e-05  5.10329774e-05 -2.28092013e-05 ...  1.07920874e-04\n",
      "    1.30119706e-05 -1.97675195e-06]\n",
      "  [-1.51006490e-04  7.96250959e-07 -2.13109233e-05 ...  7.18581941e-05\n",
      "   -1.09556007e-04 -2.92530342e-04]\n",
      "  [-1.65174657e-04  3.70604394e-05  7.28386367e-05 ...  6.36179029e-05\n",
      "   -2.33543396e-04 -3.85321473e-04]\n",
      "  ...\n",
      "  [-1.86920271e-03 -1.87309110e-03  1.70774595e-03 ... -2.47744669e-04\n",
      "    1.86931412e-03 -1.39736361e-03]\n",
      "  [-1.95515458e-03 -1.96838309e-03  1.98647589e-03 ... -3.93175171e-04\n",
      "    2.07173964e-03 -1.48985547e-03]\n",
      "  [-2.01574387e-03 -2.03018636e-03  2.23786524e-03 ... -5.22814807e-04\n",
      "    2.24355073e-03 -1.57724542e-03]]\n",
      "\n",
      " [[-6.21630315e-05  5.10329774e-05 -2.28092013e-05 ...  1.07920874e-04\n",
      "    1.30119706e-05 -1.97675195e-06]\n",
      "  [-2.35337298e-04  3.69101035e-05 -2.85216283e-05 ...  1.32016925e-04\n",
      "    2.94716621e-04 -3.17032900e-05]\n",
      "  [-1.14816568e-04  1.01841972e-04  2.46941985e-04 ... -5.38793611e-05\n",
      "    3.31245246e-04 -2.65869930e-05]\n",
      "  ...\n",
      "  [ 6.75717194e-04  2.08742204e-04  1.04590738e-03 ... -6.58148259e-04\n",
      "    8.20880814e-04  1.68956118e-04]\n",
      "  [ 6.64779276e-04  1.65999067e-04  9.92749818e-04 ... -5.99634019e-04\n",
      "    5.83576388e-04  4.81463758e-05]\n",
      "  [ 5.32567152e-04 -1.15941721e-05  9.68616805e-04 ... -5.96667174e-04\n",
      "    4.60702315e-04 -9.36711804e-05]]\n",
      "\n",
      " [[-6.21630315e-05  5.10329774e-05 -2.28092013e-05 ...  1.07920874e-04\n",
      "    1.30119706e-05 -1.97675195e-06]\n",
      "  [-2.30530393e-04  1.02199656e-05  6.28242706e-05 ...  5.43165836e-04\n",
      "    1.44450547e-04 -2.97932362e-04]\n",
      "  [-5.79248772e-05 -2.02286192e-05 -8.45414397e-05 ...  8.80926847e-04\n",
      "    5.90058444e-05 -5.62773668e-04]\n",
      "  ...\n",
      "  [-7.20377895e-04 -1.81221578e-03  1.71596039e-04 ... -4.57752642e-04\n",
      "    6.35106524e-04 -8.19767942e-04]\n",
      "  [-9.70702677e-04 -1.97833637e-03  6.32140669e-04 ... -6.70511567e-04\n",
      "    9.58334771e-04 -8.99377919e-04]\n",
      "  [-1.18225010e-03 -2.09413143e-03  1.07520889e-03 ... -8.40429100e-04\n",
      "    1.27277349e-03 -9.92542016e-04]]], shape=(256, 14, 12001), dtype=float32)\n"
     ]
    }
   ],
   "source": [
    "for src_sample, tgt_sample in dataset1.take(1): break\n",
    "print(model(src_sample))"
   ]
  },
  {
   "cell_type": "code",
   "execution_count": 13,
   "id": "supported-lightning",
   "metadata": {},
   "outputs": [
    {
     "name": "stdout",
     "output_type": "stream",
     "text": [
      "Model: \"text_generator\"\n",
      "_________________________________________________________________\n",
      "Layer (type)                 Output Shape              Param #   \n",
      "=================================================================\n",
      "embedding (Embedding)        multiple                  3072256   \n",
      "_________________________________________________________________\n",
      "lstm (LSTM)                  multiple                  5246976   \n",
      "_________________________________________________________________\n",
      "lstm_1 (LSTM)                multiple                  8392704   \n",
      "_________________________________________________________________\n",
      "dense (Dense)                multiple                  12301025  \n",
      "=================================================================\n",
      "Total params: 29,012,961\n",
      "Trainable params: 29,012,961\n",
      "Non-trainable params: 0\n",
      "_________________________________________________________________\n"
     ]
    }
   ],
   "source": [
    "model.summary()"
   ]
  },
  {
   "cell_type": "code",
   "execution_count": 14,
   "id": "alive-gabriel",
   "metadata": {},
   "outputs": [],
   "source": [
    "# optimizer와 loss등은 차차 배웁니다\n",
    "# 혹시 미리 알고 싶다면 아래 문서를 참고하세요\n",
    "# https://www.tensorflow.org/api_docs/python/tf/keras/optimizers\n",
    "# https://www.tensorflow.org/api_docs/python/tf/keras/losses\n",
    "# 양이 상당히 많은 편이니 지금 보는 것은 추천하지 않습니다\n",
    "optimizer = tf.keras.optimizers.Adam()\n",
    "loss = tf.keras.losses.SparseCategoricalCrossentropy(\n",
    "    from_logits=True,\n",
    "    reduction='none'\n",
    ")\n",
    "\n",
    "model.compile(loss=loss, optimizer=optimizer, metrics=['accuracy'])"
   ]
  },
  {
   "cell_type": "markdown",
   "id": "limiting-siemens",
   "metadata": {},
   "source": [
    "val_loss를 낮추기 위한 노력\n",
    "\n",
    "- 조기종료(early stopping)은 Neural Network가 과적합을 회피하도록 만드는 정칙화(regularization) 기법 중 하나이다\n",
    "- 훈련 데이터와는 별도로 검증 데이터(validation data)를 준비하고, \n",
    "- 매 epoch 마다 검증 데이터에 대한 오류(validation loss)를 측정하여 모델의 훈련 종료를 제어한다. \n",
    "- 구체적으로, 과적합이 발생하기 전 까지 training loss와 validaion loss 둘다 감소하지만, \n",
    "- 과적합이 일어나면 training loss는 감소하는 반면에 validation loss는 증가한다. \n",
    "- 그래서 early stopping은 validation loss가 증가하는 시점(overfitting이 시작되려는 시점)에서 훈련을 종료한다.\n",
    "- 출처: https://m.blog.naver.com/PostView.naver?isHttpsRedirect=true&blogId=cjh226&logNo=221468928164 "
   ]
  },
  {
   "cell_type": "code",
   "execution_count": 16,
   "id": "under-trail",
   "metadata": {},
   "outputs": [],
   "source": [
    "callbacks = [tf.keras.callbacks.EarlyStopping(monitor='val_loss',\n",
    "                                           patience=5)]"
   ]
  },
  {
   "cell_type": "code",
   "execution_count": 17,
   "id": "direct-lease",
   "metadata": {},
   "outputs": [
    {
     "name": "stdout",
     "output_type": "stream",
     "text": [
      "Epoch 1/10\n",
      "445/445 [==============================] - 163s 359ms/step - loss: 3.9027 - accuracy: 0.4744 - val_loss: 2.9786 - val_accuracy: 0.5393\n",
      "Epoch 2/10\n",
      "445/445 [==============================] - 161s 360ms/step - loss: 2.9082 - accuracy: 0.5416 - val_loss: 2.8019 - val_accuracy: 0.5531\n",
      "Epoch 3/10\n",
      "445/445 [==============================] - 161s 361ms/step - loss: 2.7317 - accuracy: 0.5548 - val_loss: 2.6959 - val_accuracy: 0.5611\n",
      "Epoch 4/10\n",
      "445/445 [==============================] - 159s 357ms/step - loss: 2.6022 - accuracy: 0.5633 - val_loss: 2.6218 - val_accuracy: 0.5672\n",
      "Epoch 5/10\n",
      "445/445 [==============================] - 158s 354ms/step - loss: 2.5001 - accuracy: 0.5701 - val_loss: 2.5618 - val_accuracy: 0.5728\n",
      "Epoch 6/10\n",
      "445/445 [==============================] - 159s 356ms/step - loss: 2.4106 - accuracy: 0.5770 - val_loss: 2.5165 - val_accuracy: 0.5779\n",
      "Epoch 7/10\n",
      "445/445 [==============================] - 158s 354ms/step - loss: 2.3232 - accuracy: 0.5847 - val_loss: 2.4730 - val_accuracy: 0.5829\n",
      "Epoch 8/10\n",
      "445/445 [==============================] - 158s 355ms/step - loss: 2.2427 - accuracy: 0.5915 - val_loss: 2.4361 - val_accuracy: 0.5876\n",
      "Epoch 9/10\n",
      "445/445 [==============================] - 160s 359ms/step - loss: 2.1709 - accuracy: 0.5994 - val_loss: 2.4062 - val_accuracy: 0.5931\n",
      "Epoch 10/10\n",
      "445/445 [==============================] - 160s 359ms/step - loss: 2.0978 - accuracy: 0.6078 - val_loss: 2.3812 - val_accuracy: 0.5979\n"
     ]
    }
   ],
   "source": [
    "model_history = model.fit(dataset1,\n",
    "                          batch_size=32,\n",
    "                          epochs=10,\n",
    "                          validation_data = dataset2,\n",
    "                          callbacks=callbacks)"
   ]
  },
  {
   "cell_type": "code",
   "execution_count": 18,
   "id": "ongoing-flooring",
   "metadata": {},
   "outputs": [],
   "source": [
    "def generate_text(model, tokenizer, init_sentence=\"<start>\", max_len=20):\n",
    "    # 테스트를 위해서 입력받은 init_sentence도 일단 텐서로 변환합니다.\n",
    "    test_input = tokenizer.texts_to_sequences([init_sentence])\n",
    "    test_tensor = tf.convert_to_tensor(test_input, dtype=tf.int64)\n",
    "    end_token = tokenizer.word_index[\"<end>\"]\n",
    "\n",
    "    # 텍스트를 실제로 생성할때는 루프를 돌면서 단어 하나씩 생성해야 합니다. \n",
    "    while True:\n",
    "        predict = model(test_tensor)  # 입력받은 문장의 텐서를 입력합니다. \n",
    "        predict_word = tf.argmax(tf.nn.softmax(predict, axis=-1), axis=-1)[:, -1]   # 우리 모델이 예측한 마지막 단어가 바로 새롭게 생성한 단어가 됩니다. \n",
    "\n",
    "        # 우리 모델이 새롭게 예측한 단어를 입력 문장의 뒤에 붙여 줍니다. \n",
    "        test_tensor = tf.concat([test_tensor, tf.expand_dims(predict_word, axis=0)], axis=-1)\n",
    "\n",
    "        # 우리 모델이 <end>를 예측했거나, max_len에 도달하지 않았다면  while 루프를 또 돌면서 다음 단어를 예측해야 합니다.\n",
    "        if predict_word.numpy()[0] == end_token: break\n",
    "        if test_tensor.shape[1] >= max_len: break\n",
    "\n",
    "    generated = \"\"\n",
    "    # 생성된 tensor 안에 있는 word index를 tokenizer.index_word 사전을 통해 실제 단어로 하나씩 변환합니다. \n",
    "    for word_index in test_tensor[0].numpy():\n",
    "        generated += tokenizer.index_word[word_index] + \" \"\n",
    "\n",
    "    return generated   # 이것이 최종적으로 모델이 생성한 자연어 문장입니다."
   ]
  },
  {
   "cell_type": "code",
   "execution_count": 19,
   "id": "prime-facility",
   "metadata": {
    "scrolled": false
   },
   "outputs": [
    {
     "data": {
      "text/plain": [
       "'<start> i love you , baby <end> '"
      ]
     },
     "execution_count": 19,
     "metadata": {},
     "output_type": "execute_result"
    }
   ],
   "source": [
    "generate_text(model, tokenizer, init_sentence=\"<start> i love\", max_len=20)"
   ]
  },
  {
   "cell_type": "code",
   "execution_count": 21,
   "id": "dimensional-basket",
   "metadata": {},
   "outputs": [
    {
     "data": {
      "image/png": "[encoded data removed]",
      "text/plain": [
       "<Figure size 432x288 with 1 Axes>"
      ]
     },
     "metadata": {
      "needs_background": "light"
     },
     "output_type": "display_data"
    }
   ],
   "source": [
    "%matplotlib inline\n",
    "import matplotlib.pyplot as plt\n",
    "\n",
    "fig, loss_ax = plt.subplots()\n",
    "\n",
    "\n",
    "loss_ax.plot(model_history.history['loss'], 'y', label='train loss')\n",
    "loss_ax.plot(model_history.history['val_loss'], 'r', label='val loss')\n",
    "\n",
    "loss_ax.set_xlabel('epoch')\n",
    "loss_ax.set_ylabel('loss')\n",
    "\n",
    "loss_ax.legend(loc='upper left')\n",
    "\n",
    "plt.show()"
   ]
  },
  {
   "cell_type": "markdown",
   "id": "patent-acrobat",
   "metadata": {},
   "source": [
    "## 결론"
   ]
  },
  {
   "cell_type": "markdown",
   "id": "suitable-special",
   "metadata": {},
   "source": [
    "- val_loss가 계속 2.3 밑으로는 떨어지지 않아 early stopping 등 조치를 취했지만 2.2 이하로는 떨어지지 않는다.\n",
    "- 다른 방법으로도 계속 시도해보고 있는데 좀 더 방법을 찾아보고 val_loss에 대한 업데이트가 필요하다"
   ]
  }
 ],
 "metadata": {
  "kernelspec": {
   "display_name": "Python 3",
   "language": "python",
   "name": "python3"
  },
  "language_info": {
   "codemirror_mode": {
    "name": "ipython",
    "version": 3
   },
   "file_extension": ".py",
   "mimetype": "text/x-python",
   "name": "python",
   "nbconvert_exporter": "python",
   "pygments_lexer": "ipython3",
   "version": "3.7.9"
  }
 },
 "nbformat": 4,
 "nbformat_minor": 5
}
